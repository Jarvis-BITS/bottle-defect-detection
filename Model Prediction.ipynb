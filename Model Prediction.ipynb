{
 "cells": [
  {
   "cell_type": "code",
   "execution_count": null,
   "id": "national-secondary",
   "metadata": {},
   "outputs": [],
   "source": [
    "import warnings\n",
    "warnings.filterwarnings(\"ignore\")\n",
    "\n",
    "import os\n",
    "import tensorflow as tf\n",
    "from IPython.display import Image, display\n",
    "from tensorflow.keras.models import load_model\n",
    "import numpy as np\n",
    "from keras.preprocessing import image"
   ]
  },
  {
   "cell_type": "code",
   "execution_count": null,
   "id": "nuclear-russian",
   "metadata": {},
   "outputs": [],
   "source": [
    "#Loading the model\n",
    "\n",
    "new_model = load_model('model_tacc8275_val8493.h5')"
   ]
  },
  {
   "cell_type": "code",
   "execution_count": null,
   "id": "novel-private",
   "metadata": {},
   "outputs": [],
   "source": [
    "img_path = os.path.join(os.getcwd(), 'Put file path here wrt current working directory')  \n",
    "display(Image(filename=img_path))"
   ]
  },
  {
   "cell_type": "code",
   "execution_count": null,
   "id": "recovered-prison",
   "metadata": {},
   "outputs": [],
   "source": [
    "path = img_path\n",
    "img = image.load_img(path, target_size=(150, 150))\n",
    "x = image.img_to_array(img)\n",
    "x = np.expand_dims(x, axis=0)\n",
    "\n",
    "images = np.vstack([x])\n",
    "classes = new_model.predict(images, batch_size=10)\n",
    "print(classes[0])\n",
    "if classes[0]<0.5:\n",
    "    print(\"Bottle is Defective\")\n",
    "else:\n",
    "    print(\"Bottle is Proper\")"
   ]
  }
 ],
 "metadata": {
  "kernelspec": {
   "display_name": "Python 3",
   "language": "python",
   "name": "python3"
  },
  "language_info": {
   "codemirror_mode": {
    "name": "ipython",
    "version": 3
   },
   "file_extension": ".py",
   "mimetype": "text/x-python",
   "name": "python",
   "nbconvert_exporter": "python",
   "pygments_lexer": "ipython3",
   "version": "3.7.6"
  }
 },
 "nbformat": 4,
 "nbformat_minor": 5
}
